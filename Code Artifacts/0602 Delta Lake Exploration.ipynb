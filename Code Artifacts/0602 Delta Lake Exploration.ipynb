{
  "metadata": {
    "saveOutput": true,
    "language_info": {
      "name": "python"
    }
  },
  "nbformat": 4,
  "nbformat_minor": 2,
  "cells": [
    {
      "cell_type": "markdown",
      "metadata": {},
      "source": [
        "# Using Linux foundation Delta Lake in Synapse Spark\n",
        "In this notebook, how to read the delta table, how to write to delta table and timetravel is demonstrated"
      ],
      "attachments": {}
    },
    {
      "cell_type": "code",
      "execution_count": null,
      "outputs": [],
      "metadata": {},
      "source": [
        "# Set the strorage path info\n",
        "account_name = '<storage_account_name>' # fill in your primary storage account name\n",
        "container_name = '<container_name>' # fill in your container name\n",
        "relative_delta_path='<folder_name>' # fill in your relative delta lake folder path\n",
        "\n",
        "adls_path = 'abfss://%s@%s.dfs.core.windows.net/' % (container_name, account_name)\n",
        "print('Primary storage account path: ' + adls_path)\n",
        "\n",
        "# Delta Lake relative path\n",
        "deltatablepath = adls_path + relative_delta_path + '/'\n",
        "print('Delta Lake path: ' + deltatablepath)"
      ],
      "attachments": {}
    },
    {
      "cell_type": "markdown",
      "metadata": {},
      "source": [
        "### Read data in delta format\n",
        "\n",
        ""
      ],
      "attachments": {}
    },
    {
      "cell_type": "code",
      "execution_count": 26,
      "outputs": [
        {
          "output_type": "execute_result",
          "data": {
            "text/plain": "+--------------------+----------+---------+------+-------+----------+--------------------+-----+----------+---+----------+-------------+---+\n|       Employee_Name|     EmpID|MarriedID|DeptID|PayRate|PositionID|            Position|State|       DOB|Sex|DateofHire|   Department|Age|\n+--------------------+----------+---------+------+-------+----------+--------------------+-----+----------+---+----------+-------------+---+\n|          Brown, Mia|1103024456|     true|     1|   28.5|         1|        Accountant I|   MA|11/24/1987|  F|2008-10-27|Admin Offices| 33|\n|LaRotonda, William  |1106026572|    false|     1|     23|         1|        Accountant I|   MA| 4/26/1984| M |2014-01-06|Admin Offices| 36|\n|    Steans, Tyrone  |1302053333|    false|     1|     29|         1|        Accountant I|   MA|  9/1/1986| M |2014-09-29|Admin Offices| 34|\n|     Howard, Estelle|1211050782|     true|     1|   21.5|         2|Administrative As...|   MA| 9/16/1985|  F|2015-02-16|Admin Offices| 35|\n|         Singh, Nan |1307059817|    false|     1|  16.56|         2|Administrative As...|   MA| 5/19/1988|  F|2015-05-01|Admin Offices| 32|\n|    Smith, Leigh Ann| 711007713|     true|     1|   20.5|         2|Administrative As...|   MA| 6/14/1987|  F|2011-09-26|Admin Offices| 33|\n|    Bunbury, Jessica|1504073368|     true|     6|     55|         3|  Area Sales Manager|   VA|  6/1/1964|  F|2011-08-15|        Sales| 56|\n|   Carter, Michelle |1403065721|    false|     6|     55|         3|  Area Sales Manager|   VT| 5/15/1963|  F|2014-08-18|        Sales| 57|\n|   Dietrich, Jenna  |1408069481|    false|     6|     55|         3|  Area Sales Manager|   WA| 5/14/1987|  F|2012-02-20|        Sales| 33|\n|    Digitale, Alfred|1306059197|     true|     6|     56|         3|  Area Sales Manager|   NH| 9/14/1988| M |2014-08-18|        Sales| 32|\n+--------------------+----------+---------+------+-------+----------+--------------------+-----+----------+---+----------+-------------+---+\nonly showing top 10 rows"
          },
          "execution_count": 26,
          "metadata": {}
        }
      ],
      "metadata": {},
      "source": [
        "df_hr = spark.read.format(\"delta\").load(deltatablepath)\n",
        "df_hr.show(10)"
      ],
      "attachments": {}
    },
    {
      "cell_type": "markdown",
      "metadata": {},
      "source": [
        "### Add New Column YearsOfService\n",
        "\n",
        ""
      ],
      "attachments": {}
    },
    {
      "cell_type": "code",
      "execution_count": 27,
      "outputs": [
        {
          "output_type": "execute_result",
          "data": {
            "text/plain": "+--------------------+----------+---------+------+-------+----------+--------------------+-----+----------+---+----------+-------------+---+--------------+\n|       Employee_Name|     EmpID|MarriedID|DeptID|PayRate|PositionID|            Position|State|       DOB|Sex|DateofHire|   Department|Age|YearsOfService|\n+--------------------+----------+---------+------+-------+----------+--------------------+-----+----------+---+----------+-------------+---+--------------+\n|          Brown, Mia|1103024456|     true|     1|   28.5|         1|        Accountant I|   MA|11/24/1987|  F|2008-10-27|Admin Offices| 33|            12|\n|LaRotonda, William  |1106026572|    false|     1|     23|         1|        Accountant I|   MA| 4/26/1984| M |2014-01-06|Admin Offices| 36|             6|\n|    Steans, Tyrone  |1302053333|    false|     1|     29|         1|        Accountant I|   MA|  9/1/1986| M |2014-09-29|Admin Offices| 34|             6|\n|     Howard, Estelle|1211050782|     true|     1|   21.5|         2|Administrative As...|   MA| 9/16/1985|  F|2015-02-16|Admin Offices| 35|             5|\n|         Singh, Nan |1307059817|    false|     1|  16.56|         2|Administrative As...|   MA| 5/19/1988|  F|2015-05-01|Admin Offices| 32|             5|\n+--------------------+----------+---------+------+-------+----------+--------------------+-----+----------+---+----------+-------------+---+--------------+\nonly showing top 5 rows"
          },
          "execution_count": 27,
          "metadata": {}
        }
      ],
      "metadata": {},
      "source": [
        "import pyspark.sql.functions as f\n",
        "\n",
        "df_hr_service = df_hr.withColumn('YearsOfService',2020-f.year(f.to_timestamp('DateofHire', 'MM/dd/yyyy')))\n",
        "df_hr_service.show(5)"
      ],
      "attachments": {}
    },
    {
      "cell_type": "markdown",
      "metadata": {},
      "source": [
        "### Overwrite the entire delta table\n",
        ""
      ],
      "attachments": {}
    },
    {
      "cell_type": "code",
      "execution_count": 29,
      "outputs": [],
      "metadata": {},
      "source": [
        "df_hr_service.write.mode(\"overwrite\").format(\"delta\").option(\"mergeSchema\",\"true\").save(deltatablepath)"
      ],
      "attachments": {}
    },
    {
      "cell_type": "markdown",
      "metadata": {},
      "source": [
        "### Validate delta table is updated with new column\n",
        ""
      ],
      "attachments": {}
    },
    {
      "cell_type": "code",
      "execution_count": 30,
      "outputs": [
        {
          "output_type": "execute_result",
          "data": {
            "text/plain": "+--------------------+----------+---------+------+-------+----------+--------------------+-----+----------+---+----------+-------------+---+--------------+\n|       Employee_Name|     EmpID|MarriedID|DeptID|PayRate|PositionID|            Position|State|       DOB|Sex|DateofHire|   Department|Age|YearsOfService|\n+--------------------+----------+---------+------+-------+----------+--------------------+-----+----------+---+----------+-------------+---+--------------+\n|          Brown, Mia|1103024456|     true|     1|   28.5|         1|        Accountant I|   MA|11/24/1987|  F|2008-10-27|Admin Offices| 33|            12|\n|LaRotonda, William  |1106026572|    false|     1|     23|         1|        Accountant I|   MA| 4/26/1984| M |2014-01-06|Admin Offices| 36|             6|\n|    Steans, Tyrone  |1302053333|    false|     1|     29|         1|        Accountant I|   MA|  9/1/1986| M |2014-09-29|Admin Offices| 34|             6|\n|     Howard, Estelle|1211050782|     true|     1|   21.5|         2|Administrative As...|   MA| 9/16/1985|  F|2015-02-16|Admin Offices| 35|             5|\n|         Singh, Nan |1307059817|    false|     1|  16.56|         2|Administrative As...|   MA| 5/19/1988|  F|2015-05-01|Admin Offices| 32|             5|\n|    Smith, Leigh Ann| 711007713|     true|     1|   20.5|         2|Administrative As...|   MA| 6/14/1987|  F|2011-09-26|Admin Offices| 33|             9|\n|    Bunbury, Jessica|1504073368|     true|     6|     55|         3|  Area Sales Manager|   VA|  6/1/1964|  F|2011-08-15|        Sales| 56|             9|\n|   Carter, Michelle |1403065721|    false|     6|     55|         3|  Area Sales Manager|   VT| 5/15/1963|  F|2014-08-18|        Sales| 57|             6|\n|   Dietrich, Jenna  |1408069481|    false|     6|     55|         3|  Area Sales Manager|   WA| 5/14/1987|  F|2012-02-20|        Sales| 33|             8|\n|    Digitale, Alfred|1306059197|     true|     6|     56|         3|  Area Sales Manager|   NH| 9/14/1988| M |2014-08-18|        Sales| 32|             6|\n+--------------------+----------+---------+------+-------+----------+--------------------+-----+----------+---+----------+-------------+---+--------------+\nonly showing top 10 rows"
          },
          "execution_count": 30,
          "metadata": {}
        }
      ],
      "metadata": {},
      "source": [
        "hrdataframe = spark.read.format(\"delta\").load(deltatablepath)\n",
        "hrdataframe.show(10)"
      ],
      "attachments": {}
    },
    {
      "cell_type": "markdown",
      "metadata": {},
      "source": [
        "### Check version with timetravel\n",
        "\n",
        "we can see here yearsOfService column is not present in original delta table"
      ],
      "attachments": {}
    },
    {
      "cell_type": "code",
      "execution_count": 32,
      "outputs": [
        {
          "output_type": "execute_result",
          "data": {
            "text/plain": "+--------------------+----------+---------+------+-------+----------+--------------------+-----+----------+---+----------+-------------+---+\n|       Employee_Name|     EmpID|MarriedID|DeptID|PayRate|PositionID|            Position|State|       DOB|Sex|DateofHire|   Department|Age|\n+--------------------+----------+---------+------+-------+----------+--------------------+-----+----------+---+----------+-------------+---+\n|          Brown, Mia|1103024456|     true|     1|   28.5|         1|        Accountant I|   MA|11/24/1987|  F|2008-10-27|Admin Offices| 33|\n|LaRotonda, William  |1106026572|    false|     1|     23|         1|        Accountant I|   MA| 4/26/1984| M |2014-01-06|Admin Offices| 36|\n|    Steans, Tyrone  |1302053333|    false|     1|     29|         1|        Accountant I|   MA|  9/1/1986| M |2014-09-29|Admin Offices| 34|\n|     Howard, Estelle|1211050782|     true|     1|   21.5|         2|Administrative As...|   MA| 9/16/1985|  F|2015-02-16|Admin Offices| 35|\n|         Singh, Nan |1307059817|    false|     1|  16.56|         2|Administrative As...|   MA| 5/19/1988|  F|2015-05-01|Admin Offices| 32|\n|    Smith, Leigh Ann| 711007713|     true|     1|   20.5|         2|Administrative As...|   MA| 6/14/1987|  F|2011-09-26|Admin Offices| 33|\n|    Bunbury, Jessica|1504073368|     true|     6|     55|         3|  Area Sales Manager|   VA|  6/1/1964|  F|2011-08-15|        Sales| 56|\n|   Carter, Michelle |1403065721|    false|     6|     55|         3|  Area Sales Manager|   VT| 5/15/1963|  F|2014-08-18|        Sales| 57|\n|   Dietrich, Jenna  |1408069481|    false|     6|     55|         3|  Area Sales Manager|   WA| 5/14/1987|  F|2012-02-20|        Sales| 33|\n|    Digitale, Alfred|1306059197|     true|     6|     56|         3|  Area Sales Manager|   NH| 9/14/1988| M |2014-08-18|        Sales| 32|\n+--------------------+----------+---------+------+-------+----------+--------------------+-----+----------+---+----------+-------------+---+\nonly showing top 10 rows"
          },
          "execution_count": 32,
          "metadata": {}
        }
      ],
      "metadata": {},
      "source": [
        "hrdataoriginal = (spark\n",
        "                    .read\n",
        "                    .format(\"delta\")\n",
        "                    .option(\"versionAsOf\",0)\n",
        "                    .load(deltatablepath)\n",
        "                    )\n",
        "hrdataoriginal.show(10)"
      ],
      "attachments": {}
    },
    {
      "cell_type": "markdown",
      "metadata": {},
      "source": [
        "### Update records that match the given condition \n",
        "Lets update here PayRate for employees whose payroll is less than 20 to make it lowest payrate value above 20.\n",
        ""
      ],
      "attachments": {}
    },
    {
      "cell_type": "code",
      "execution_count": 35,
      "outputs": [
        {
          "output_type": "execute_result",
          "data": {
            "text/plain": "21\n178"
          },
          "execution_count": 35,
          "metadata": {}
        }
      ],
      "metadata": {},
      "source": [
        "from pyspark.sql.functions import *\n",
        "from delta.tables import *\n",
        "\n",
        "deltaTable = DeltaTable.forPath(spark,deltatablepath)\n",
        "\n",
        "minPayRateAbove20 = hrdataframe.filter(\"PayRate>20\").agg({\"PayRate\":\"min\"}).collect()[0][\"min(PayRate)\"]\n",
        "\n",
        "print(minPayRateAbove20)\n",
        "\n",
        "#Number of records that will be updated\n",
        "deltaTable.toDF().filter(col(\"PayRate\")<minPayRateAbove20).count()"
      ],
      "attachments": {}
    },
    {
      "cell_type": "code",
      "execution_count": 36,
      "outputs": [
        {
          "output_type": "execute_result",
          "data": {
            "text/plain": "+-------------+-----+---------+------+-------+----------+--------+-----+---+---+----------+----------+---+--------------+\n|Employee_Name|EmpID|MarriedID|DeptID|PayRate|PositionID|Position|State|DOB|Sex|DateofHire|Department|Age|YearsOfService|\n+-------------+-----+---------+------+-------+----------+--------+-----+---+---+----------+----------+---+--------------+\n+-------------+-----+---------+------+-------+----------+--------+-----+---+---+----------+----------+---+--------------+"
          },
          "execution_count": 36,
          "metadata": {}
        }
      ],
      "metadata": {},
      "source": [
        "# Update PayRate to 21 for employees whose PayRate is below 20 \n",
        "deltaTable.update(\n",
        "    condition = (col(\"PayRate\")<minPayRateAbove20),\n",
        "    set = {\"PayRate\":minPayRateAbove20}\n",
        ")\n",
        "deltaTable.toDF().filter(col(\"PayRate\")<minPayRateAbove20).show()"
      ],
      "attachments": {}
    },
    {
      "cell_type": "markdown",
      "metadata": {},
      "source": [
        "### Validate changes by filtering records on condition\n",
        "Validate no employees have PayRate less than or equal to 20\n",
        ""
      ],
      "attachments": {}
    },
    {
      "cell_type": "code",
      "execution_count": 37,
      "outputs": [
        {
          "output_type": "execute_result",
          "data": {
            "text/plain": "0"
          },
          "execution_count": 37,
          "metadata": {}
        }
      ],
      "metadata": {},
      "source": [
        "deltaTableAfterUpdate = DeltaTable.forPath(spark,deltatablepath)\n",
        "deltaTableAfterUpdate.toDF().filter(col(\"PayRate\")<minPayRateAbove20).count()"
      ],
      "attachments": {}
    },
    {
      "cell_type": "markdown",
      "metadata": {},
      "source": [
        "## Audit data changes\n",
        "or Check Version history\n",
        ""
      ],
      "attachments": {}
    },
    {
      "cell_type": "code",
      "execution_count": 38,
      "outputs": [
        {
          "output_type": "execute_result",
          "data": {
            "text/plain": "+-------+-------------------+------+--------+---------+--------------------+----+--------+---------+-----------+--------------+-------------+--------------------+\n|version|          timestamp|userId|userName|operation| operationParameters| job|notebook|clusterId|readVersion|isolationLevel|isBlindAppend|    operationMetrics|\n+-------+-------------------+------+--------+---------+--------------------+----+--------+---------+-----------+--------------+-------------+--------------------+\n|      2|2020-08-12 07:53:51|  null|    null|   UPDATE|[predicate -> (Pa...|null|    null|     null|          1|          null|        false|[numRemovedFiles ...|\n|      1|2020-08-12 07:47:14|  null|    null|    WRITE|[mode -> Overwrit...|null|    null|     null|          0|          null|        false|[numFiles -> 2, n...|\n|      0|2020-08-12 07:44:49|  null|    null|    WRITE|[mode -> Append, ...|null|    null|     null|       null|          null|         true|[numFiles -> 2, n...|\n+-------+-------------------+------+--------+---------+--------------------+----+--------+---------+-----------+--------------+-------------+--------------------+"
          },
          "execution_count": 38,
          "metadata": {}
        }
      ],
      "metadata": {},
      "source": [
        "#get version history\n",
        "deltaTable.history().show()"
      ],
      "attachments": {}
    },
    {
      "cell_type": "code",
      "execution_count": 39,
      "outputs": [
        {
          "output_type": "execute_result",
          "data": {
            "text/plain": "+-------+-------------------+------+--------+---------+--------------------+----+--------+---------+-----------+--------------+-------------+--------------------+\n|version|          timestamp|userId|userName|operation| operationParameters| job|notebook|clusterId|readVersion|isolationLevel|isBlindAppend|    operationMetrics|\n+-------+-------------------+------+--------+---------+--------------------+----+--------+---------+-----------+--------------+-------------+--------------------+\n|      2|2020-08-12 07:53:51|  null|    null|   UPDATE|[predicate -> (Pa...|null|    null|     null|          1|          null|        false|[numRemovedFiles ...|\n+-------+-------------------+------+--------+---------+--------------------+----+--------+---------+-----------+--------------+-------------+--------------------+"
          },
          "execution_count": 39,
          "metadata": {}
        }
      ],
      "metadata": {},
      "source": [
        "deltaTable.history(1).show()"
      ],
      "attachments": {}
    },
    {
      "cell_type": "markdown",
      "metadata": {},
      "source": [
        "### Undo changes for DeltaTable by restoring previous version\n",
        "Lets set the PayRate as it was in previous version "
      ],
      "attachments": {}
    },
    {
      "cell_type": "code",
      "execution_count": 40,
      "outputs": [
        {
          "output_type": "execute_result",
          "data": {
            "text/plain": "HR Dataframe as of version 0: \n+--------------------+----------+---------+------+-------+----------+--------------------+-----+----------+---+----------+-------------+---+\n|       Employee_Name|     EmpID|MarriedID|DeptID|PayRate|PositionID|            Position|State|       DOB|Sex|DateofHire|   Department|Age|\n+--------------------+----------+---------+------+-------+----------+--------------------+-----+----------+---+----------+-------------+---+\n|          Brown, Mia|1103024456|     true|     1|   28.5|         1|        Accountant I|   MA|11/24/1987|  F|2008-10-27|Admin Offices| 33|\n|LaRotonda, William  |1106026572|    false|     1|     23|         1|        Accountant I|   MA| 4/26/1984| M |2014-01-06|Admin Offices| 36|\n|    Steans, Tyrone  |1302053333|    false|     1|     29|         1|        Accountant I|   MA|  9/1/1986| M |2014-09-29|Admin Offices| 34|\n|     Howard, Estelle|1211050782|     true|     1|   21.5|         2|Administrative As...|   MA| 9/16/1985|  F|2015-02-16|Admin Offices| 35|\n|         Singh, Nan |1307059817|    false|     1|  16.56|         2|Administrative As...|   MA| 5/19/1988|  F|2015-05-01|Admin Offices| 32|\n|    Smith, Leigh Ann| 711007713|     true|     1|   20.5|         2|Administrative As...|   MA| 6/14/1987|  F|2011-09-26|Admin Offices| 33|\n|    Bunbury, Jessica|1504073368|     true|     6|     55|         3|  Area Sales Manager|   VA|  6/1/1964|  F|2011-08-15|        Sales| 56|\n|   Carter, Michelle |1403065721|    false|     6|     55|         3|  Area Sales Manager|   VT| 5/15/1963|  F|2014-08-18|        Sales| 57|\n|   Dietrich, Jenna  |1408069481|    false|     6|     55|         3|  Area Sales Manager|   WA| 5/14/1987|  F|2012-02-20|        Sales| 33|\n|    Digitale, Alfred|1306059197|     true|     6|     56|         3|  Area Sales Manager|   NH| 9/14/1988| M |2014-08-18|        Sales| 32|\n+--------------------+----------+---------+------+-------+----------+--------------------+-----+----------+---+----------+-------------+---+\nonly showing top 10 rows\n\nIn version 0 count of employees who have PayRate less than or equal to 20 are:178\nIn latest version count of employees who have PayRate less than or equal to 20 are: 178\n+--------------------+----------+---------+------+-------+----------+--------------------+-----+----------+---+----------+-------------+---+\n|       Employee_Name|     EmpID|MarriedID|DeptID|PayRate|PositionID|            Position|State|       DOB|Sex|DateofHire|   Department|Age|\n+--------------------+----------+---------+------+-------+----------+--------------------+-----+----------+---+----------+-------------+---+\n|          Brown, Mia|1103024456|     true|     1|   28.5|         1|        Accountant I|   MA|11/24/1987|  F|2008-10-27|Admin Offices| 33|\n|LaRotonda, William  |1106026572|    false|     1|     23|         1|        Accountant I|   MA| 4/26/1984| M |2014-01-06|Admin Offices| 36|\n|    Steans, Tyrone  |1302053333|    false|     1|     29|         1|        Accountant I|   MA|  9/1/1986| M |2014-09-29|Admin Offices| 34|\n|     Howard, Estelle|1211050782|     true|     1|   21.5|         2|Administrative As...|   MA| 9/16/1985|  F|2015-02-16|Admin Offices| 35|\n|         Singh, Nan |1307059817|    false|     1|  16.56|         2|Administrative As...|   MA| 5/19/1988|  F|2015-05-01|Admin Offices| 32|\n|    Smith, Leigh Ann| 711007713|     true|     1|   20.5|         2|Administrative As...|   MA| 6/14/1987|  F|2011-09-26|Admin Offices| 33|\n|    Bunbury, Jessica|1504073368|     true|     6|     55|         3|  Area Sales Manager|   VA|  6/1/1964|  F|2011-08-15|        Sales| 56|\n|   Carter, Michelle |1403065721|    false|     6|     55|         3|  Area Sales Manager|   VT| 5/15/1963|  F|2014-08-18|        Sales| 57|\n|   Dietrich, Jenna  |1408069481|    false|     6|     55|         3|  Area Sales Manager|   WA| 5/14/1987|  F|2012-02-20|        Sales| 33|\n|    Digitale, Alfred|1306059197|     true|     6|     56|         3|  Area Sales Manager|   NH| 9/14/1988| M |2014-08-18|        Sales| 32|\n+--------------------+----------+---------+------+-------+----------+--------------------+-----+----------+---+----------+-------------+---+\nonly showing top 10 rows"
          },
          "execution_count": 40,
          "metadata": {}
        }
      ],
      "metadata": {},
      "source": [
        "#Get verison 0 details\n",
        "hrdataversion0 = spark\\\n",
        "                        .read\\\n",
        "                        .format(\"delta\")\\\n",
        "                        .option(\"versionAsOF\",0)\\\n",
        "                        .load(deltatablepath)\n",
        "print(\"HR Dataframe as of version 0: \")\n",
        "hrdataversion0.show(10)\n",
        "\n",
        "print(\"In version 0 count of employees who have PayRate less than or equal to 20 are:%d\" % hrdataversion0.filter(col(\"PayRate\")<minPayRateAbove20).count())\n",
        "\n",
        "# Revert changes\n",
        "hrdataversion0.write.format(\"delta\").mode(\"overwrite\").option(\"overwriteSchema\", \"true\").save(deltatablepath)\n",
        "\n",
        "#read data and check count of employees again\n",
        "finalversion = spark.read.format(\"delta\").load(deltatablepath)\n",
        "print(\"In latest version count of employees who have PayRate less than or equal to 20 are: %d\" % finalversion.filter(col(\"PayRate\")<minPayRateAbove20).count())\n",
        "finalversion.show(10)"
      ],
      "attachments": {}
    }
  ]
}