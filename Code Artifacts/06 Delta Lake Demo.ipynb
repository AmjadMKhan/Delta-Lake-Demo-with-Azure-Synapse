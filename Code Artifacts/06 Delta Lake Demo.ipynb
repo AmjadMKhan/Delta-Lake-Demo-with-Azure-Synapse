{
  "metadata": {
    "saveOutput": true,
    "language_info": {
      "name": "python"
    }
  },
  "nbformat": 4,
  "nbformat_minor": 2,
  "cells": [
    {
      "cell_type": "markdown",
      "metadata": {},
      "source": [
        "# Using Linux foundation Delta Lake in Synapse Spark\n",
        "In this notebook, how to read the delta table, how to write to delta table and timetravel is demonstrated"
      ],
      "attachments": {}
    },
    {
      "cell_type": "code",
      "execution_count": null,
      "outputs": [],
      "metadata": {},
      "source": [
        "# Set the strorage path info\n",
        "account_name = '<storage_account_name>' # fill in your primary storage account name\n",
        "container_name = '<container_name>' # fill in your container name\n",
        "relative_csv_path = '<csv_folder_name>' # fill in your relative CSV folder path\n",
        "relative_delta_path='<Delta_Lake_folder_name>' # fill in your relative delta lake folder path\n",
        "\n",
        "adls_path = 'abfss://%s@%s.dfs.core.windows.net/' % (container_name, account_name)\n",
        "print('Primary storage account path: ' + adls_path)\n",
        "\n",
        "#csv input file path\n",
        "csvfilepath = adls_path + relative_csv_path + '/00 HRData.csv'\n",
        "print ('CSV file path: '+ csvfilepath)\n",
        "\n",
        "# Delta Lake relative path\n",
        "deltatablepath = adls_path + relative_delta_path + '/'\n",
        "print('Delta Lake path: ' + deltatablepath)"
      ],
      "attachments": {}
    },
    {
      "cell_type": "markdown",
      "metadata": {},
      "source": [
        "### Read data in csv format\n",
        "\n",
        ""
      ],
      "attachments": {}
    },
    {
      "cell_type": "code",
      "execution_count": 5,
      "outputs": [
        {
          "output_type": "execute_result",
          "execution_count": 5,
          "data": {
            "text/plain": "+--------------------+----------+---------+------+-------+----------+--------------------+-----+----------+---+----------+-------------+\n|       Employee_Name|     EmpID|MarriedID|DeptID|PayRate|PositionID|            Position|State|       DOB|Sex|DateofHire|   Department|\n+--------------------+----------+---------+------+-------+----------+--------------------+-----+----------+---+----------+-------------+\n|          Brown, Mia|1103024456|        1|     1|   28.5|         1|        Accountant I|   MA|11/24/1987|  F|10/27/2008|Admin Offices|\n|LaRotonda, William  |1106026572|        0|     1|     23|         1|        Accountant I|   MA| 4/26/1984| M |  1/6/2014|Admin Offices|\n|    Steans, Tyrone  |1302053333|        0|     1|     29|         1|        Accountant I|   MA|  9/1/1986| M | 9/29/2014|Admin Offices|\n|     Howard, Estelle|1211050782|        1|     1|   21.5|         2|Administrative As...|   MA| 9/16/1985|  F| 2/16/2015|Admin Offices|\n|         Singh, Nan |1307059817|        0|     1|  16.56|         2|Administrative As...|   MA| 5/19/1988|  F|  5/1/2015|Admin Offices|\n|    Smith, Leigh Ann| 711007713|        1|     1|   20.5|         2|Administrative As...|   MA| 6/14/1987|  F| 9/26/2011|Admin Offices|\n|    Bunbury, Jessica|1504073368|        1|     6|     55|         3|  Area Sales Manager|   VA|  6/1/1964|  F| 8/15/2011|        Sales|\n|   Carter, Michelle |1403065721|        0|     6|     55|         3|  Area Sales Manager|   VT| 5/15/1963|  F| 8/18/2014|        Sales|\n|   Dietrich, Jenna  |1408069481|        0|     6|     55|         3|  Area Sales Manager|   WA| 5/14/1987|  F| 2/20/2012|        Sales|\n|    Digitale, Alfred|1306059197|        1|     6|     56|         3|  Area Sales Manager|   NH| 9/14/1988| M | 8/18/2014|        Sales|\n+--------------------+----------+---------+------+-------+----------+--------------------+-----+----------+---+----------+-------------+\nonly showing top 10 rows"
          },
          "metadata": {}
        }
      ],
      "metadata": {},
      "source": [
        "csvhrdatadf = spark.read.option(\"header\",True).format(\"csv\").load(csvfilepath)\n",
        "csvhrdatadf.show(10)"
      ],
      "attachments": {}
    },
    {
      "cell_type": "markdown",
      "metadata": {},
      "source": [
        "### Write data in delta format\n",
        ""
      ],
      "attachments": {}
    },
    {
      "cell_type": "code",
      "execution_count": 22,
      "outputs": [],
      "metadata": {},
      "source": [
        "csvhrdatadf.write.mode(\"overwrite\").format(\"delta\").partitionBy(\"Department\").save(deltatablepath)"
      ],
      "attachments": {}
    },
    {
      "cell_type": "code",
      "execution_count": 23,
      "outputs": [
        {
          "output_type": "execute_result",
          "data": {
            "text/plain": "+------------------+----------+---------+------+-------+----------+--------------------+-----+----------+---+----------+-----------------+\n|     Employee_Name|     EmpID|MarriedID|DeptID|PayRate|PositionID|            Position|State|       DOB|Sex|DateofHire|       Department|\n+------------------+----------+---------+------+-------+----------+--------------------+-----+----------+---+----------+-----------------+\n|   Bramante, Elisa|1006020066|        0|     5|     60|        10|Director of Opera...|   MA| 3/19/1983|  F|  1/5/2009|Production       |\n| Albert, Michael  |1501072311|        0|     5|   54.5|        17|  Production Manager|   MA|10/10/1968| M |  8/1/2011|Production       |\n|    Bozzi, Charles|1303054580|        0|     5|   50.5|        18|  Production Manager|   MA| 3/10/1970| M | 9/30/2013|Production       |\n|Butler, Webster  L|1110029990|        0|     5|     55|        18|  Production Manager|   MA|  8/9/1983| M | 1/28/2016|Production       |\n|       Dunn, Amy  |1409070147|        0|     5|     51|        18|  Production Manager|   MA|11/28/1973|  F| 9/18/2014|Production       |\n|   Gray, Elijiah  |1307060077|        0|     5|     54|        18|  Production Manager|   MA| 7/11/1981| M |  6/2/2015|Production       |\n|Hogland, Jonathan |1001944783|        1|     5|   48.5|        18|  Production Manager|   MA|  7/1/1972| M | 1/10/2011|Production       |\n| Immediato, Walter|1403065874|        1|     5|     42|        18|  Production Manager|   MA|11/15/1976| M | 2/21/2011|Production       |\n|    Liebig, Ketsia|1103024679|        1|     5|     55|        18|  Production Manager|   MA|10/26/1981|  F| 9/30/2013|Production       |\n|   Miller, Brannon|1107027351|        0|     5|     53|        18|  Production Manager|   MA| 8/10/1981| M | 8/16/2012|Production       |\n+------------------+----------+---------+------+-------+----------+--------------------+-----+----------+---+----------+-----------------+\nonly showing top 10 rows"
          },
          "execution_count": 23,
          "metadata": {}
        }
      ],
      "metadata": {},
      "source": [
        "df_hr = spark.read.format(\"delta\").load(deltatablepath)\n",
        "df_hr.show(10)"
      ],
      "attachments": {}
    },
    {
      "cell_type": "markdown",
      "metadata": {},
      "source": [
        "### Add New Column YearsOfService\n",
        "\n",
        ""
      ],
      "attachments": {}
    },
    {
      "cell_type": "code",
      "execution_count": 24,
      "outputs": [
        {
          "output_type": "execute_result",
          "data": {
            "text/plain": "+------------------+----------+---------+------+-------+----------+--------------------+-----+----------+---+----------+-----------------+--------------+\n|     Employee_Name|     EmpID|MarriedID|DeptID|PayRate|PositionID|            Position|State|       DOB|Sex|DateofHire|       Department|YearsOfService|\n+------------------+----------+---------+------+-------+----------+--------------------+-----+----------+---+----------+-----------------+--------------+\n|   Bramante, Elisa|1006020066|        0|     5|     60|        10|Director of Opera...|   MA| 3/19/1983|  F|  1/5/2009|Production       |            11|\n| Albert, Michael  |1501072311|        0|     5|   54.5|        17|  Production Manager|   MA|10/10/1968| M |  8/1/2011|Production       |             9|\n|    Bozzi, Charles|1303054580|        0|     5|   50.5|        18|  Production Manager|   MA| 3/10/1970| M | 9/30/2013|Production       |             7|\n|Butler, Webster  L|1110029990|        0|     5|     55|        18|  Production Manager|   MA|  8/9/1983| M | 1/28/2016|Production       |             4|\n|       Dunn, Amy  |1409070147|        0|     5|     51|        18|  Production Manager|   MA|11/28/1973|  F| 9/18/2014|Production       |             6|\n+------------------+----------+---------+------+-------+----------+--------------------+-----+----------+---+----------+-----------------+--------------+\nonly showing top 5 rows"
          },
          "execution_count": 24,
          "metadata": {}
        }
      ],
      "metadata": {},
      "source": [
        "import pyspark.sql.functions as f\n",
        "\n",
        "df_hr_service = df_hr.withColumn('YearsOfService',2020-f.year(f.to_timestamp('DateofHire', 'MM/dd/yyyy')))\n",
        "df_hr_service.show(5)"
      ],
      "attachments": {}
    },
    {
      "cell_type": "markdown",
      "metadata": {},
      "source": [
        "### Overwrite the entire delta table\n",
        ""
      ],
      "attachments": {}
    },
    {
      "cell_type": "code",
      "execution_count": 25,
      "outputs": [],
      "metadata": {},
      "source": [
        "df_hr_service.write.mode(\"overwrite\").format(\"delta\").partitionBy(\"Department\").option(\"mergeSchema\", True).save(deltatablepath)"
      ],
      "attachments": {}
    },
    {
      "cell_type": "markdown",
      "metadata": {},
      "source": [
        "### Validate delta table is updated with new column\n",
        ""
      ],
      "attachments": {}
    },
    {
      "cell_type": "code",
      "execution_count": 26,
      "outputs": [
        {
          "output_type": "execute_result",
          "data": {
            "text/plain": "+------------------+----------+---------+------+-------+----------+--------------------+-----+----------+---+----------+-----------------+--------------+\n|     Employee_Name|     EmpID|MarriedID|DeptID|PayRate|PositionID|            Position|State|       DOB|Sex|DateofHire|       Department|YearsOfService|\n+------------------+----------+---------+------+-------+----------+--------------------+-----+----------+---+----------+-----------------+--------------+\n|   Bramante, Elisa|1006020066|        0|     5|     60|        10|Director of Opera...|   MA| 3/19/1983|  F|  1/5/2009|Production       |            11|\n| Albert, Michael  |1501072311|        0|     5|   54.5|        17|  Production Manager|   MA|10/10/1968| M |  8/1/2011|Production       |             9|\n|    Bozzi, Charles|1303054580|        0|     5|   50.5|        18|  Production Manager|   MA| 3/10/1970| M | 9/30/2013|Production       |             7|\n|Butler, Webster  L|1110029990|        0|     5|     55|        18|  Production Manager|   MA|  8/9/1983| M | 1/28/2016|Production       |             4|\n|       Dunn, Amy  |1409070147|        0|     5|     51|        18|  Production Manager|   MA|11/28/1973|  F| 9/18/2014|Production       |             6|\n|   Gray, Elijiah  |1307060077|        0|     5|     54|        18|  Production Manager|   MA| 7/11/1981| M |  6/2/2015|Production       |             5|\n|Hogland, Jonathan |1001944783|        1|     5|   48.5|        18|  Production Manager|   MA|  7/1/1972| M | 1/10/2011|Production       |             9|\n| Immediato, Walter|1403065874|        1|     5|     42|        18|  Production Manager|   MA|11/15/1976| M | 2/21/2011|Production       |             9|\n|    Liebig, Ketsia|1103024679|        1|     5|     55|        18|  Production Manager|   MA|10/26/1981|  F| 9/30/2013|Production       |             7|\n|   Miller, Brannon|1107027351|        0|     5|     53|        18|  Production Manager|   MA| 8/10/1981| M | 8/16/2012|Production       |             8|\n+------------------+----------+---------+------+-------+----------+--------------------+-----+----------+---+----------+-----------------+--------------+\nonly showing top 10 rows"
          },
          "execution_count": 26,
          "metadata": {}
        }
      ],
      "metadata": {},
      "source": [
        "hrdataframe = spark.read.format(\"delta\").load(deltatablepath)\n",
        "hrdataframe.show(10)"
      ],
      "attachments": {}
    },
    {
      "cell_type": "markdown",
      "metadata": {},
      "source": [
        "### Check version with timetravel\n",
        "\n",
        "we can see here yearsOfService column is not present in original delta table"
      ],
      "attachments": {}
    },
    {
      "cell_type": "code",
      "execution_count": 27,
      "outputs": [
        {
          "output_type": "execute_result",
          "data": {
            "text/plain": "+------------------+----------+---------+------+-------+----------+--------------------+-----+----------+---+----------+-----------------+\n|     Employee_Name|     EmpID|MarriedID|DeptID|PayRate|PositionID|            Position|State|       DOB|Sex|DateofHire|       Department|\n+------------------+----------+---------+------+-------+----------+--------------------+-----+----------+---+----------+-----------------+\n|   Bramante, Elisa|1006020066|        0|     5|     60|        10|Director of Opera...|   MA| 3/19/1983|  F|  1/5/2009|Production       |\n| Albert, Michael  |1501072311|        0|     5|   54.5|        17|  Production Manager|   MA|10/10/1968| M |  8/1/2011|Production       |\n|    Bozzi, Charles|1303054580|        0|     5|   50.5|        18|  Production Manager|   MA| 3/10/1970| M | 9/30/2013|Production       |\n|Butler, Webster  L|1110029990|        0|     5|     55|        18|  Production Manager|   MA|  8/9/1983| M | 1/28/2016|Production       |\n|       Dunn, Amy  |1409070147|        0|     5|     51|        18|  Production Manager|   MA|11/28/1973|  F| 9/18/2014|Production       |\n|   Gray, Elijiah  |1307060077|        0|     5|     54|        18|  Production Manager|   MA| 7/11/1981| M |  6/2/2015|Production       |\n|Hogland, Jonathan |1001944783|        1|     5|   48.5|        18|  Production Manager|   MA|  7/1/1972| M | 1/10/2011|Production       |\n| Immediato, Walter|1403065874|        1|     5|     42|        18|  Production Manager|   MA|11/15/1976| M | 2/21/2011|Production       |\n|    Liebig, Ketsia|1103024679|        1|     5|     55|        18|  Production Manager|   MA|10/26/1981|  F| 9/30/2013|Production       |\n|   Miller, Brannon|1107027351|        0|     5|     53|        18|  Production Manager|   MA| 8/10/1981| M | 8/16/2012|Production       |\n+------------------+----------+---------+------+-------+----------+--------------------+-----+----------+---+----------+-----------------+\nonly showing top 10 rows"
          },
          "execution_count": 27,
          "metadata": {}
        }
      ],
      "metadata": {},
      "source": [
        "hrdataoriginal = (spark\n",
        "                    .read\n",
        "                    .format(\"delta\")\n",
        "                    .option(\"versionAsOf\",0)\n",
        "                    .load(deltatablepath)\n",
        "                    )\n",
        "hrdataoriginal.show(10)"
      ],
      "attachments": {}
    },
    {
      "cell_type": "markdown",
      "metadata": {},
      "source": [
        "### Update records that match the given condition \n",
        "Lets update here PayRate for employees whose payroll is less than 20 to make it lowest payrate value above 20.\n",
        ""
      ],
      "attachments": {}
    },
    {
      "cell_type": "code",
      "execution_count": 28,
      "outputs": [
        {
          "output_type": "execute_result",
          "data": {
            "text/plain": "89"
          },
          "execution_count": 28,
          "metadata": {}
        }
      ],
      "metadata": {},
      "source": [
        "from pyspark.sql.functions import *\n",
        "from delta.tables import *\n",
        "\n",
        "deltaTable = DeltaTable.forPath(spark,deltatablepath)\n",
        "\n",
        "minPayRateAbove20 = hrdataframe.filter(\"PayRate>20\").select(min(\"PayRate\"))\n",
        "minPay=(minPayRateAbove20.__getitem__(0).cast(\"string\"))\n",
        "test=minPayRateAbove20.collect().__getitem__(0)\n",
        "\n",
        "\n",
        "#Number of records that will be updated\n",
        "deltaTable.toDF().filter(\"PayRate<=20\").count()\n",
        "\n",
        ""
      ],
      "attachments": {}
    },
    {
      "cell_type": "code",
      "execution_count": 40,
      "outputs": [
        {
          "output_type": "execute_result",
          "data": {
            "text/plain": "+-------------+-----+---------+------+-------+----------+--------+-----+---+---+----------+----------+--------------+\n|Employee_Name|EmpID|MarriedID|DeptID|PayRate|PositionID|Position|State|DOB|Sex|DateofHire|Department|YearsOfService|\n+-------------+-----+---------+------+-------+----------+--------+-----+---+---+----------+----------+--------------+\n+-------------+-----+---------+------+-------+----------+--------+-----+---+---+----------+----------+--------------+"
          },
          "execution_count": 40,
          "metadata": {}
        }
      ],
      "metadata": {},
      "source": [
        "# Update PayRate to 20.5 for employees whose PayRate is below 20 \n",
        "deltaTable.update(\n",
        "    condition = (col(\"PayRate\")<=20),\n",
        "    set = {\"PayRate\":\"20.5\"}\n",
        ")\n",
        "deltaTable.toDF().filter(\"PayRate<20.5\").show()"
      ],
      "attachments": {}
    },
    {
      "cell_type": "markdown",
      "metadata": {},
      "source": [
        "### Validate changes by filtering records on condition\n",
        "Validate no employees have PayRate less than or equal to 20\n",
        ""
      ],
      "attachments": {}
    },
    {
      "cell_type": "code",
      "execution_count": 41,
      "outputs": [
        {
          "output_type": "execute_result",
          "data": {
            "text/plain": "0"
          },
          "execution_count": 41,
          "metadata": {}
        }
      ],
      "metadata": {},
      "source": [
        "deltaTableAfterUpdate = DeltaTable.forPath(spark,deltatablepath)\n",
        "deltaTableAfterUpdate.toDF().filter(\"PayRate<20.5\").count()"
      ],
      "attachments": {}
    },
    {
      "cell_type": "markdown",
      "metadata": {},
      "source": [
        "## Audit data changes\n",
        "or Check Version history\n",
        ""
      ],
      "attachments": {}
    },
    {
      "cell_type": "code",
      "execution_count": 42,
      "outputs": [
        {
          "output_type": "execute_result",
          "data": {
            "text/plain": "+-------+-------------------+------+--------+---------+--------------------+----+--------+---------+-----------+--------------+-------------+--------------------+\n|version|          timestamp|userId|userName|operation| operationParameters| job|notebook|clusterId|readVersion|isolationLevel|isBlindAppend|    operationMetrics|\n+-------+-------------------+------+--------+---------+--------------------+----+--------+---------+-----------+--------------+-------------+--------------------+\n|      9|2020-08-11 02:41:00|  null|    null|   UPDATE|[predicate -> (ca...|null|    null|     null|          8|          null|        false|[numRemovedFiles ...|\n|      8|2020-08-11 02:40:19|  null|    null|   UPDATE|[predicate -> (ca...|null|    null|     null|          7|          null|        false|[numRemovedFiles ...|\n|      7|2020-08-11 02:39:33|  null|    null|   UPDATE|[predicate -> (ca...|null|    null|     null|          6|          null|        false|[numRemovedFiles ...|\n|      6|2020-08-11 02:38:41|  null|    null|   UPDATE|[predicate -> (ca...|null|    null|     null|          5|          null|        false|[numRemovedFiles ...|\n|      5|2020-08-11 02:37:55|  null|    null|   UPDATE|[predicate -> (ca...|null|    null|     null|          4|          null|        false|[numRemovedFiles ...|\n|      4|2020-08-11 02:36:47|  null|    null|   UPDATE|[predicate -> (ca...|null|    null|     null|          3|          null|        false|[numRemovedFiles ...|\n|      3|2020-08-11 02:36:04|  null|    null|   UPDATE|[predicate -> (ca...|null|    null|     null|          2|          null|        false|[numRemovedFiles ...|\n|      2|2020-08-11 02:30:46|  null|    null|   UPDATE|[predicate -> (ca...|null|    null|     null|          1|          null|        false|[numRemovedFiles ...|\n|      1|2020-08-11 02:29:19|  null|    null|    WRITE|[mode -> Overwrit...|null|    null|     null|          0|          null|        false|[numFiles -> 6, n...|\n|      0|2020-08-11 02:28:20|  null|    null|    WRITE|[mode -> Overwrit...|null|    null|     null|       null|          null|        false|[numFiles -> 6, n...|\n+-------+-------------------+------+--------+---------+--------------------+----+--------+---------+-----------+--------------+-------------+--------------------+"
          },
          "execution_count": 42,
          "metadata": {}
        }
      ],
      "metadata": {},
      "source": [
        "#get version history\n",
        "deltaTable.history().show()"
      ],
      "attachments": {}
    },
    {
      "cell_type": "code",
      "execution_count": 44,
      "outputs": [
        {
          "output_type": "execute_result",
          "data": {
            "text/plain": "+-------+-------------------+------+--------+---------+--------------------+----+--------+---------+-----------+--------------+-------------+--------------------+\n|version|          timestamp|userId|userName|operation| operationParameters| job|notebook|clusterId|readVersion|isolationLevel|isBlindAppend|    operationMetrics|\n+-------+-------------------+------+--------+---------+--------------------+----+--------+---------+-----------+--------------+-------------+--------------------+\n|      9|2020-08-11 02:41:00|  null|    null|   UPDATE|[predicate -> (ca...|null|    null|     null|          8|          null|        false|[numRemovedFiles ...|\n+-------+-------------------+------+--------+---------+--------------------+----+--------+---------+-----------+--------------+-------------+--------------------+"
          },
          "execution_count": 44,
          "metadata": {}
        }
      ],
      "metadata": {},
      "source": [
        "deltaTable.history(1).show()"
      ],
      "attachments": {}
    },
    {
      "cell_type": "markdown",
      "metadata": {},
      "source": [
        "### Undo changes for DeltaTable by restoring previous version\n",
        "Lets set the PayRate as it was in previous version "
      ],
      "attachments": {}
    },
    {
      "cell_type": "code",
      "execution_count": 46,
      "outputs": [
        {
          "output_type": "execute_result",
          "data": {
            "text/plain": "HR Dataframe as of version 0: \n+------------------+----------+---------+------+-------+----------+--------------------+-----+----------+---+----------+-----------------+\n|     Employee_Name|     EmpID|MarriedID|DeptID|PayRate|PositionID|            Position|State|       DOB|Sex|DateofHire|       Department|\n+------------------+----------+---------+------+-------+----------+--------------------+-----+----------+---+----------+-----------------+\n|   Bramante, Elisa|1006020066|        0|     5|     60|        10|Director of Opera...|   MA| 3/19/1983|  F|  1/5/2009|Production       |\n| Albert, Michael  |1501072311|        0|     5|   54.5|        17|  Production Manager|   MA|10/10/1968| M |  8/1/2011|Production       |\n|    Bozzi, Charles|1303054580|        0|     5|   50.5|        18|  Production Manager|   MA| 3/10/1970| M | 9/30/2013|Production       |\n|Butler, Webster  L|1110029990|        0|     5|     55|        18|  Production Manager|   MA|  8/9/1983| M | 1/28/2016|Production       |\n|       Dunn, Amy  |1409070147|        0|     5|     51|        18|  Production Manager|   MA|11/28/1973|  F| 9/18/2014|Production       |\n|   Gray, Elijiah  |1307060077|        0|     5|     54|        18|  Production Manager|   MA| 7/11/1981| M |  6/2/2015|Production       |\n|Hogland, Jonathan |1001944783|        1|     5|   48.5|        18|  Production Manager|   MA|  7/1/1972| M | 1/10/2011|Production       |\n| Immediato, Walter|1403065874|        1|     5|     42|        18|  Production Manager|   MA|11/15/1976| M | 2/21/2011|Production       |\n|    Liebig, Ketsia|1103024679|        1|     5|     55|        18|  Production Manager|   MA|10/26/1981|  F| 9/30/2013|Production       |\n|   Miller, Brannon|1107027351|        0|     5|     53|        18|  Production Manager|   MA| 8/10/1981| M | 8/16/2012|Production       |\n+------------------+----------+---------+------+-------+----------+--------------------+-----+----------+---+----------+-----------------+\nonly showing top 10 rows\n\nIn version 0 count of employees who have PayRate less than or equal to 20 are:88\nIn latest version count of employees who have PayRate less than or equal to 20 are: 88\n+------------------+----------+---------+------+-------+----------+--------------------+-----+----------+---+----------+-----------------+--------------+\n|     Employee_Name|     EmpID|MarriedID|DeptID|PayRate|PositionID|            Position|State|       DOB|Sex|DateofHire|       Department|YearsOfService|\n+------------------+----------+---------+------+-------+----------+--------------------+-----+----------+---+----------+-----------------+--------------+\n|   Bramante, Elisa|1006020066|        0|     5|     60|        10|Director of Opera...|   MA| 3/19/1983|  F|  1/5/2009|Production       |          null|\n| Albert, Michael  |1501072311|        0|     5|   54.5|        17|  Production Manager|   MA|10/10/1968| M |  8/1/2011|Production       |          null|\n|    Bozzi, Charles|1303054580|        0|     5|   50.5|        18|  Production Manager|   MA| 3/10/1970| M | 9/30/2013|Production       |          null|\n|Butler, Webster  L|1110029990|        0|     5|     55|        18|  Production Manager|   MA|  8/9/1983| M | 1/28/2016|Production       |          null|\n|       Dunn, Amy  |1409070147|        0|     5|     51|        18|  Production Manager|   MA|11/28/1973|  F| 9/18/2014|Production       |          null|\n|   Gray, Elijiah  |1307060077|        0|     5|     54|        18|  Production Manager|   MA| 7/11/1981| M |  6/2/2015|Production       |          null|\n|Hogland, Jonathan |1001944783|        1|     5|   48.5|        18|  Production Manager|   MA|  7/1/1972| M | 1/10/2011|Production       |          null|\n| Immediato, Walter|1403065874|        1|     5|     42|        18|  Production Manager|   MA|11/15/1976| M | 2/21/2011|Production       |          null|\n|    Liebig, Ketsia|1103024679|        1|     5|     55|        18|  Production Manager|   MA|10/26/1981|  F| 9/30/2013|Production       |          null|\n|   Miller, Brannon|1107027351|        0|     5|     53|        18|  Production Manager|   MA| 8/10/1981| M | 8/16/2012|Production       |          null|\n+------------------+----------+---------+------+-------+----------+--------------------+-----+----------+---+----------+-----------------+--------------+\nonly showing top 10 rows"
          },
          "execution_count": 46,
          "metadata": {}
        }
      ],
      "metadata": {},
      "source": [
        "#Get verison 0 details\n",
        "hrdataversion0 = spark\\\n",
        "                        .read\\\n",
        "                        .format(\"delta\")\\\n",
        "                        .option(\"versionAsOF\",0)\\\n",
        "                        .load(deltatablepath)\n",
        "print(\"HR Dataframe as of version 0: \")\n",
        "hrdataversion0.show(10)\n",
        "\n",
        "print(\"In version 0 count of employees who have PayRate less than or equal to 20 are:%d\" % hrdataversion0.filter(\"PayRate<20.5\").count())\n",
        "\n",
        "# Revert changes\n",
        "hrdataversion0.write.format(\"delta\").mode(\"overwrite\").partitionBy(\"Department\").save(deltatablepath)\n",
        "\n",
        "#read data and check count of employees again\n",
        "finalversion = spark.read.format(\"delta\").load(deltatablepath)\n",
        "print(\"In latest version count of employees who have PayRate less than or equal to 20 are: %d\" % finalversion.filter(\"PayRate<20.5\").count())\n",
        "finalversion.show(10)"
      ],
      "attachments": {}
    },
    {
      "cell_type": "code",
      "execution_count": null,
      "outputs": [],
      "metadata": {},
      "source": [],
      "attachments": {}
    }
  ]
}